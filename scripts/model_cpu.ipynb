{
 "cells": [
  {
   "cell_type": "code",
   "execution_count": null,
   "id": "71309a84",
   "metadata": {},
   "outputs": [],
   "source": [
    "from transformers import AutoTokenizer, AutoModelForCausalLM\n",
    "import os\n",
    "import torch\n",
    "from peft import PeftModel\n",
    "import warnings\n",
    "warnings.filterwarnings(\"ignore\")"
   ]
  },
  {
   "cell_type": "code",
   "execution_count": null,
   "id": "262d0971",
   "metadata": {},
   "outputs": [],
   "source": [
    "model_path = \"./my-llama-3.1-8b-local\"\n",
    "tokenizer = AutoTokenizer.from_pretrained(model_path)\n",
    "if tokenizer.pad_token is None:\n",
    "    tokenizer.pad_token = tokenizer.eos_token"
   ]
  },
  {
   "cell_type": "code",
   "execution_count": null,
   "id": "87a4b1d1",
   "metadata": {},
   "outputs": [
    {
     "name": "stderr",
     "output_type": "stream",
     "text": [
      "`torch_dtype` is deprecated! Use `dtype` instead!\n"
     ]
    },
    {
     "data": {
      "application/vnd.jupyter.widget-view+json": {
       "model_id": "14d0d94c178a4230b5783e762556cc89",
       "version_major": 2,
       "version_minor": 0
      },
      "text/plain": [
       "Loading checkpoint shards:   0%|          | 0/4 [00:00<?, ?it/s]"
      ]
     },
     "metadata": {},
     "output_type": "display_data"
    }
   ],
   "source": [
    "base_model = AutoModelForCausalLM.from_pretrained(\n",
    "        model_path,\n",
    "        dtype=torch.float32,        \n",
    "        device_map=\"cpu\",                 \n",
    "        low_cpu_mem_usage=True,          \n",
    "        trust_remote_code=True\n",
    "    )"
   ]
  },
  {
   "cell_type": "code",
   "execution_count": 7,
   "id": "3f24e7f8",
   "metadata": {},
   "outputs": [
    {
     "data": {
      "text/plain": [
       "True"
      ]
     },
     "execution_count": 7,
     "metadata": {},
     "output_type": "execute_result"
    }
   ],
   "source": [
    "lora_adapter_path = \"./marketing_lora_finetuned\"\n",
    "os.path.exists(lora_adapter_path)"
   ]
  },
  {
   "cell_type": "code",
   "execution_count": 9,
   "id": "5bfe86ec",
   "metadata": {},
   "outputs": [
    {
     "name": "stderr",
     "output_type": "stream",
     "text": [
      "The 8-bit optimizer is not available on your device, only available on CUDA for now.\n"
     ]
    },
    {
     "name": "stdout",
     "output_type": "stream",
     "text": [
      "✅ LoRA adapters loaded\n"
     ]
    }
   ],
   "source": [
    "model = PeftModel.from_pretrained(base_model, lora_adapter_path)\n",
    "model.eval()\n",
    "print(\"✅ LoRA adapters loaded\")"
   ]
  },
  {
   "cell_type": "code",
   "execution_count": 10,
   "id": "16dc5f85",
   "metadata": {},
   "outputs": [],
   "source": [
    "def test_marketing_model_cpu(prompt):\n",
    "    \"\"\"Test marketing model on CPU\"\"\"\n",
    "    messages = [\n",
    "        {\"role\": \"system\", \"content\": \"You are a marketing expert who creates engaging marketing content.\"},\n",
    "        {\"role\": \"user\", \"content\": prompt}\n",
    "    ]\n",
    "    \n",
    "    try:\n",
    "        formatted_prompt = tokenizer.apply_chat_template(\n",
    "            messages, \n",
    "            tokenize=False, \n",
    "            add_generation_prompt=True\n",
    "        )\n",
    "        \n",
    "        inputs = tokenizer(formatted_prompt, return_tensors=\"pt\")\n",
    "        \n",
    "        print(\"🔄 Generating (this will take 2-5 minutes on CPU)...\")\n",
    "      \n",
    "        with torch.no_grad():\n",
    "            outputs = model.generate(\n",
    "                **inputs,\n",
    "                max_new_tokens=100,        \n",
    "                temperature=0.7,\n",
    "                do_sample=True,\n",
    "                pad_token_id=tokenizer.eos_token_id,\n",
    "                eos_token_id=tokenizer.eos_token_id,\n",
    "                num_beams=1,            \n",
    "                early_stopping=True\n",
    "            )\n",
    "        \n",
    "        response = tokenizer.decode(outputs[0], skip_special_tokens=True)\n",
    "        \n",
    "        if \"assistant\\n\" in response:\n",
    "            assistant_response = response.split(\"assistant\\n\")[-1]\n",
    "        else:\n",
    "            assistant_response = response\n",
    "        \n",
    "        return assistant_response.strip()\n",
    "        \n",
    "    except Exception as e:\n",
    "        return f\"Generation failed: {e}\""
   ]
  },
  {
   "cell_type": "code",
   "execution_count": 11,
   "id": "8c547c0c",
   "metadata": {},
   "outputs": [
    {
     "name": "stderr",
     "output_type": "stream",
     "text": [
      "The following generation flags are not valid and may be ignored: ['early_stopping']. Set `TRANSFORMERS_VERBOSITY=info` for more details.\n"
     ]
    },
    {
     "name": "stdout",
     "output_type": "stream",
     "text": [
      "\n",
      "Testing with: Write a short marketing message about AI tools\n",
      "--------------------------------------------------\n",
      "🔄 Generating (this will take 2-5 minutes on CPU)...\n",
      "✅ Generated Content:\n",
      "Generation failed: probability tensor contains either `inf`, `nan` or element < 0\n"
     ]
    }
   ],
   "source": [
    "test_prompt = \"Write a short marketing message about AI tools\"\n",
    "\n",
    "print(f\"\\nTesting with: {test_prompt}\")\n",
    "print(\"-\" * 50)\n",
    "\n",
    "result = test_marketing_model_cpu(test_prompt)\n",
    "print(\"✅ Generated Content:\")\n",
    "print(result)"
   ]
  }
 ],
 "metadata": {
  "kernelspec": {
   "display_name": "LLM",
   "language": "python",
   "name": "python3"
  },
  "language_info": {
   "codemirror_mode": {
    "name": "ipython",
    "version": 3
   },
   "file_extension": ".py",
   "mimetype": "text/x-python",
   "name": "python",
   "nbconvert_exporter": "python",
   "pygments_lexer": "ipython3",
   "version": "3.10.18"
  }
 },
 "nbformat": 4,
 "nbformat_minor": 5
}
