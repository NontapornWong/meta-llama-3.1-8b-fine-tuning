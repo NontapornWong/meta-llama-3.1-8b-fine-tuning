{
 "cells": [
  {
   "cell_type": "code",
   "execution_count": null,
   "id": "6ade775a",
   "metadata": {},
   "outputs": [
    {
     "name": "stdout",
     "output_type": "stream",
     "text": [
      "✅ Success!\n",
      "Generated content: As a customer, I’ve had my fair share of frustrating conversations with chatbots. I’ve been asked irrelevant questions, been told to “please go to the website” when I already am on the website, and even been asked to restart the conversation from scratch because the bot somehow “couldn’t find” our conversation. But things are changing. AI has improved significantly over the past few years, and chatbots are now capable of delivering seamless, human-like conversations. And nowhere is this shift more pronounced than in customer service. As a consumer, I’ve already noticed the difference. But as a business owner, I’ve seen how implementing AI-powered customer service solutions can benefit your business just as much as it benefits me. From increased efficiency to improved customer satisfaction, here are six ways AI-powered customer service solutions can benefit your business. Table of Contents Why Implement AI-Powered Customer Service Solutions? Benefits of AI-Powered Customer Service How to Implement AI-Powered Customer Service Solutions Best AI-Powered Customer Service Tools & Solutions Why Implement AI-Powered Customer Service Solutions? Traditional customer service used to be all about finding a new agent who’s available to take your call. But with the rise of AI-powered customer service solutions, things have changed. Now, it’s about finding a solution that can provide fast, personalized, and consistent support to your customers — no matter what time of day it is or what channel they use. And that’s exactly what AI-powered customer service solutions do. They leverage AI to power\n",
      "Generation time: 30.02s\n"
     ]
    }
   ],
   "source": [
    "import requests\n",
    "import json\n",
    "\n",
    "# Test the API\n",
    "url = \"http://localhost:8000/generate\"\n",
    "\n",
    "data = {\n",
    "    \"prompt\": \"Write marketing content about: AI-powered customer service solutions\",\n",
    "    \"max_length\": 300,\n",
    "    \"temperature\": 0.7\n",
    "}\n",
    "\n",
    "response = requests.post(url, json=data)\n",
    "\n",
    "if response.status_code == 200:\n",
    "    result = response.json()\n",
    "    print(\"✅ Success!\")\n",
    "    print(f\"Generated content: {result['content']}\")\n",
    "    print(f\"Generation time: {result['generation_time']:.2f}s\")\n",
    "else:\n",
    "    print(f\"Error: {response.status_code}\")\n",
    "    print(response.text)"
   ]
  }
 ],
 "metadata": {
  "kernelspec": {
   "display_name": "LLM",
   "language": "python",
   "name": "python3"
  },
  "language_info": {
   "codemirror_mode": {
    "name": "ipython",
    "version": 3
   },
   "file_extension": ".py",
   "mimetype": "text/x-python",
   "name": "python",
   "nbconvert_exporter": "python",
   "pygments_lexer": "ipython3",
   "version": "3.10.18"
  }
 },
 "nbformat": 4,
 "nbformat_minor": 5
}
